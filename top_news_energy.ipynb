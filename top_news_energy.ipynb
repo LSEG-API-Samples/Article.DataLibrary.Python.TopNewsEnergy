{
 "cells": [
  {
   "cell_type": "markdown",
   "id": "121c47af-fe05-4a50-8816-bbe8b06d2ce6",
   "metadata": {},
   "source": [
    "## Getting Top News Energy Headlines and stories using LSEG Data Library for Python\n",
    "#### Step 1) import the necessary Python libraries and set the App Key"
   ]
  },
  {
   "cell_type": "code",
   "execution_count": null,
   "id": "410ed1ad-591c-4fa6-863a-c0966d12c2c2",
   "metadata": {},
   "outputs": [],
   "source": [
    "import lseg.data as ld\n",
    "from lseg.data.content import news\n",
    "import pandas as pd\n",
    "from IPython.display import HTML\n",
    "\n",
    "APP_KEY = \"<App Key>\"\n",
    "ld.open_session(app_key = APP_KEY)"
   ]
  },
  {
   "cell_type": "markdown",
   "id": "2f85e8e4-94c1-4f97-b7a5-09ca85cbe98e",
   "metadata": {},
   "source": [
    "#### Step 2) Get Top News Hierarchy"
   ]
  },
  {
   "cell_type": "code",
   "execution_count": null,
   "id": "6406501a-e6d2-4e8a-a380-d8d999c07bf6",
   "metadata": {},
   "outputs": [],
   "source": [
    "definition = news.top_news.hierarchy.Definition()\n",
    "response = definition.get_data()\n",
    "response.data.df"
   ]
  },
  {
   "cell_type": "markdown",
   "id": "a33bf0e5-7096-4dfa-8c04-8a96073671d0",
   "metadata": {},
   "source": [
    "#### Step 3) Retrieve a content of Top News Energy"
   ]
  },
  {
   "cell_type": "code",
   "execution_count": null,
   "id": "21d7c199-9af0-4900-a49e-11d7fb71fc5b",
   "metadata": {},
   "outputs": [],
   "source": [
    "energy_top_news_id = response.data.hierarchy['Commodities']['Energy'].top_news_id\n",
    "definition = news.top_news.Definition(energy_top_news_id)\n",
    "news_response = definition.get_data()\n",
    "news_response.data.df"
   ]
  },
  {
   "cell_type": "markdown",
   "id": "bbfc67cd-742a-4a57-9605-22b3c8f68c8c",
   "metadata": {},
   "source": [
    "#### Step 4) Get the Top News stories and images"
   ]
  },
  {
   "cell_type": "code",
   "execution_count": null,
   "id": "cee186f7-9073-4f54-b4b5-a044fa6e7df2",
   "metadata": {},
   "outputs": [],
   "source": [
    "#Retrieve the first top news image\n",
    "imageId = news_response.data.df[\"imageId\"][0]\n",
    "image_definition = news.images.Definition(imageId)\n",
    "image_resposne = image_definition.get_data()\n",
    "display(image_resposne.data.image.show())\n",
    "\n",
    "#Retrieve the first top news story\n",
    "storyId = news_response.data.df[\"storyId\"][0]\n",
    "news_story = ld.news.get_story(storyId)\n",
    "display(HTML(news_story))"
   ]
  },
  {
   "cell_type": "markdown",
   "id": "8744b0d6-dd1e-4504-ba6e-86f84e8f0a97",
   "metadata": {},
   "source": [
    "**An example code to retrieve all news story in the list**"
   ]
  },
  {
   "cell_type": "code",
   "execution_count": null,
   "id": "35d8d2b3-7f68-4e16-9138-bb6c28266e19",
   "metadata": {},
   "outputs": [],
   "source": [
    "for index, row in news_response.data.df.iterrows():\n",
    "    \n",
    "    print(\"\\n=========================================================\")\n",
    "    display(row[\"headline\"])\n",
    "    \n",
    "    #Retrieve the first top news image\n",
    "    imageId = row[\"imageId\"]    \n",
    "    if pd.isna(imageId) == False:\n",
    "        image_definition = news.images.Definition(imageId)\n",
    "        image_resposne = image_definition.get_data()\n",
    "        display(image_resposne.data.image.show())\n",
    "    \n",
    "    #Retrieve the first top news story\n",
    "    storyId = row[\"storyId\"]\n",
    "    if pd.isna(storyId) == False:\n",
    "        news_story = ld.news.get_story(storyId)\n",
    "        display(HTML(news_story))"
   ]
  },
  {
   "cell_type": "code",
   "execution_count": null,
   "id": "3ea731eb-680f-436d-af30-ebd1538ed71b",
   "metadata": {},
   "outputs": [],
   "source": []
  }
 ],
 "metadata": {
  "kernelspec": {
   "display_name": "Python 3 (ipykernel)",
   "language": "python",
   "name": "python3"
  },
  "language_info": {
   "codemirror_mode": {
    "name": "ipython",
    "version": 3
   },
   "file_extension": ".py",
   "mimetype": "text/x-python",
   "name": "python",
   "nbconvert_exporter": "python",
   "pygments_lexer": "ipython3",
   "version": "3.12.8"
  }
 },
 "nbformat": 4,
 "nbformat_minor": 5
}
